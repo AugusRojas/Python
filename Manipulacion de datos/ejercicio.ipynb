{
 "cells": [
  {
   "cell_type": "markdown",
   "metadata": {},
   "source": [
    "#TP3"
   ]
  },
  {
   "cell_type": "markdown",
   "metadata": {},
   "source": [
    "## Ejercicio 1: Cargar Datos de ventas.\n",
    "\n",
    "El archivo datos.dat contiene el registro de las ventas realizadas.\n",
    "\n",
    "Tiene un formato de ancho fijo:\n",
    "- fecha:    10 lugares\n",
    "- producto: 30 lugares\n",
    "- precio:   10 lugares\n",
    "- cantidad:  5 lugares\n",
    "\n",
    "hacer una funcion que carge los en una lista de diccionarios. \n",
    "\n",
    "nota: con \n",
    "```python\n",
    "lineas = open(\"datos.dat\", \"r\").readlines() \n",
    "```\n",
    "puede obtener la lista de string de todos los datos "
   ]
  },
  {
   "cell_type": "code",
   "execution_count": 1,
   "metadata": {},
   "outputs": [
    {
     "name": "stdout",
     "output_type": "stream",
     "text": [
      "{'fecha': '2024-08-27', 'producto': 'Mirinda', 'precio': 1510.0, 'cantidad': 14, 'resultado': None}\n",
      "{'fecha': '2024-08-27', 'producto': 'Mirinda', 'precio': 1560.0, 'cantidad': 12, 'resultado': None}\n",
      "{'fecha': '2024-08-28', 'producto': 'Torasso', 'precio': 940.0, 'cantidad': 8, 'resultado': None}\n",
      "{'fecha': '2024-08-29', 'producto': 'Pepsi Cola', 'precio': 1210.0, 'cantidad': 10, 'resultado': None}\n",
      "{'fecha': '2024-08-30', 'producto': 'Mirinda', 'precio': 1520.0, 'cantidad': 1, 'resultado': None}\n",
      "{'fecha': '2024-09-01', 'producto': 'Mirinda', 'precio': 1550.0, 'cantidad': 15, 'resultado': None}\n",
      "{'fecha': '2024-09-01', 'producto': 'Sprite', 'precio': 810.0, 'cantidad': 4, 'resultado': None}\n",
      "{'fecha': '2024-09-02', 'producto': 'Coca Cola', 'precio': 1100.0, 'cantidad': 4, 'resultado': None}\n",
      "{'fecha': '2024-09-02', 'producto': 'Pepsi Cola', 'precio': 1220.0, 'cantidad': 13, 'resultado': None}\n",
      "{'fecha': '2024-09-02', 'producto': 'Torasso', 'precio': 910.0, 'cantidad': 5, 'resultado': None}\n",
      "{'fecha': '2024-09-02', 'producto': 'Torasso', 'precio': 920.0, 'cantidad': 3, 'resultado': None}\n",
      "{'fecha': '2024-09-03', 'producto': 'Coca Cola', 'precio': 1020.0, 'cantidad': 8, 'resultado': None}\n",
      "{'fecha': '2024-09-03', 'producto': 'Mirinda', 'precio': 1570.0, 'cantidad': 7, 'resultado': None}\n",
      "{'fecha': '2024-09-03', 'producto': 'Mirinda', 'precio': 1590.0, 'cantidad': 2, 'resultado': None}\n",
      "{'fecha': '2024-09-04', 'producto': 'Pepsi Cola', 'precio': 1220.0, 'cantidad': 13, 'resultado': None}\n",
      "{'fecha': '2024-09-05', 'producto': 'Mirinda', 'precio': 1500.0, 'cantidad': 3, 'resultado': None}\n",
      "{'fecha': '2024-09-05', 'producto': 'Pepsi Cola', 'precio': 1300.0, 'cantidad': 5, 'resultado': None}\n",
      "{'fecha': '2024-09-06', 'producto': 'Coca Cola', 'precio': 1080.0, 'cantidad': 1, 'resultado': None}\n",
      "{'fecha': '2024-09-06', 'producto': 'Sprite', 'precio': 860.0, 'cantidad': 12, 'resultado': None}\n",
      "{'fecha': '2024-09-06', 'producto': 'Torasso', 'precio': 930.0, 'cantidad': 3, 'resultado': None}\n",
      "{'fecha': '2024-09-07', 'producto': 'Coca Cola', 'precio': 1080.0, 'cantidad': 14, 'resultado': None}\n",
      "{'fecha': '2024-09-07', 'producto': 'Sprite', 'precio': 870.0, 'cantidad': 13, 'resultado': None}\n",
      "{'fecha': '2024-09-08', 'producto': 'Coca Cola', 'precio': 1040.0, 'cantidad': 10, 'resultado': None}\n",
      "{'fecha': '2024-09-08', 'producto': 'Mirinda', 'precio': 1580.0, 'cantidad': 2, 'resultado': None}\n",
      "{'fecha': '2024-09-08', 'producto': 'Pepsi Cola', 'precio': 1240.0, 'cantidad': 9, 'resultado': None}\n",
      "{'fecha': '2024-09-09', 'producto': 'Mirinda', 'precio': 1500.0, 'cantidad': 3, 'resultado': None}\n",
      "{'fecha': '2024-09-09', 'producto': 'Sprite', 'precio': 850.0, 'cantidad': 9, 'resultado': None}\n",
      "{'fecha': '2024-09-10', 'producto': 'Mirinda', 'precio': 1590.0, 'cantidad': 8, 'resultado': None}\n",
      "{'fecha': '2024-09-10', 'producto': 'Pepsi Cola', 'precio': 1250.0, 'cantidad': 12, 'resultado': None}\n",
      "{'fecha': '2024-09-11', 'producto': 'Sprite', 'precio': 810.0, 'cantidad': 6, 'resultado': None}\n",
      "{'fecha': '2024-09-11', 'producto': 'Sprite', 'precio': 820.0, 'cantidad': 14, 'resultado': None}\n",
      "{'fecha': '2024-09-12', 'producto': 'Coca Cola', 'precio': 1080.0, 'cantidad': 4, 'resultado': None}\n",
      "{'fecha': '2024-09-13', 'producto': 'Mirinda', 'precio': 1580.0, 'cantidad': 5, 'resultado': None}\n",
      "{'fecha': '2024-09-13', 'producto': 'Pepsi Cola', 'precio': 1250.0, 'cantidad': 13, 'resultado': None}\n",
      "{'fecha': '2024-09-14', 'producto': 'Coca Cola', 'precio': 1080.0, 'cantidad': 15, 'resultado': None}\n",
      "{'fecha': '2024-09-14', 'producto': 'Pepsi Cola', 'precio': 1270.0, 'cantidad': 14, 'resultado': None}\n",
      "{'fecha': '2024-09-15', 'producto': 'Coca Cola', 'precio': 1100.0, 'cantidad': 1, 'resultado': None}\n",
      "{'fecha': '2024-09-15', 'producto': 'Mirinda', 'precio': 1500.0, 'cantidad': 13, 'resultado': None}\n",
      "{'fecha': '2024-09-15', 'producto': 'Sprite', 'precio': 870.0, 'cantidad': 14, 'resultado': None}\n",
      "{'fecha': '2024-09-15', 'producto': 'Torasso', 'precio': 900.0, 'cantidad': 13, 'resultado': None}\n"
     ]
    }
   ],
   "source": [
    "def cargar_datos():\n",
    "    with open(\"datos.dat\", \"r\") as archivo:\n",
    "        lineas=archivo.readlines()\n",
    "        ventas = []\n",
    "    \n",
    "        for linea in lineas:\n",
    "            fecha = linea[0:10].strip()           \n",
    "            producto = linea[10:40].strip()       \n",
    "            precio = float(linea[40:50].strip())  \n",
    "            cantidad = int(linea[50:55].strip())  \n",
    "        \n",
    "            venta = {\n",
    "                \"fecha\": fecha,\n",
    "                \"producto\": producto,\n",
    "                \"precio\": precio,\n",
    "                \"cantidad\": cantidad,\n",
    "                \"resultado\": None\n",
    "            }\n",
    "\n",
    "            ventas.append(venta)\n",
    "    \n",
    "        return ventas\n",
    "\n",
    "datos = cargar_datos()\n",
    "for dato in datos:\n",
    "    print(dato)"
   ]
  },
  {
   "cell_type": "markdown",
   "metadata": {},
   "source": [
    "## Ejercicio 2: Calcular el total de ventas.\n",
    "\n",
    "Hacer una funcion que sume los importes vendidos (precio * cantidad) y las cantidades"
   ]
  },
  {
   "cell_type": "code",
   "execution_count": 2,
   "metadata": {},
   "outputs": [
    {
     "name": "stdout",
     "output_type": "stream",
     "text": [
      "Las ventas fueron de $11700.00 en 335 unidades\n"
     ]
    }
   ],
   "source": [
    "def calcular_totales(datos):\n",
    "    suma=0\n",
    "    cantidad=0\n",
    "    for dato in datos:\n",
    "        suma = dato[\"precio\"]* dato[\"cantidad\"]\n",
    "        cantidad+=int(dato[\"cantidad\"])\n",
    "    return suma,cantidad\n",
    "\n",
    "importe, cantidad = calcular_totales(datos)\n",
    "\n",
    "print(f\"Las ventas fueron de ${importe:.2f} en {cantidad} unidades\")\n"
   ]
  },
  {
   "cell_type": "markdown",
   "metadata": {},
   "source": [
    "## Ejercicio 3: Listar las unidades vendidas.\n",
    "\n",
    "Listar cuantas unidades se vendieron en total para cada producto"
   ]
  },
  {
   "cell_type": "code",
   "execution_count": 3,
   "metadata": {},
   "outputs": [
    {
     "name": "stdout",
     "output_type": "stream",
     "text": [
      "Producto Mirinda y por 85\n",
      "Producto Torasso y por 32\n",
      "Producto Pepsi Cola y por 89\n",
      "Producto Sprite y por 72\n",
      "Producto Coca Cola y por 57\n"
     ]
    }
   ],
   "source": [
    "def unidades_vendidas(datos):\n",
    "    variable={}\n",
    "    cantidad=0\n",
    "    producto=\"\"\n",
    "\n",
    "    for dato in datos:\n",
    "        cantidad=int(dato[\"cantidad\"])\n",
    "        producto=dato[\"producto\"].strip()\n",
    "\n",
    "        if producto in variable:\n",
    "            variable[producto]+=cantidad\n",
    "\n",
    "        else:\n",
    "            variable[producto]=cantidad\n",
    "            \n",
    "    return variable\n",
    "\n",
    "def listar_ventas(ventas):\n",
    "    for producto in ventas:\n",
    "        cantidad=ventas[producto]\n",
    "        print(f\"Producto {producto} y por {cantidad}\")\n",
    "\n",
    "ventas = unidades_vendidas(datos)\n",
    "listar_ventas(ventas)\n",
    "\n"
   ]
  },
  {
   "cell_type": "markdown",
   "metadata": {},
   "source": [
    "##  Ejercicio 4: Listar el precio promedio por producto.\n",
    "\n",
    "Hacer un listado del precio promedio por productos."
   ]
  },
  {
   "cell_type": "code",
   "execution_count": 4,
   "metadata": {},
   "outputs": [
    {
     "name": "stdout",
     "output_type": "stream",
     "text": [
      "El promedio del producto Mirinda es de 344.94 \n",
      "El promedio del producto Torasso es de 916.25 \n",
      "El promedio del producto Pepsi Cola es de 329.44 \n",
      "El promedio del producto Sprite es de 407.22 \n",
      "El promedio del producto Coca Cola es de 514.39 \n"
     ]
    }
   ],
   "source": [
    "def precio_promedio(datos):\n",
    "    variable={}\n",
    "    cantidad=0\n",
    "    producto=\"\"\n",
    "\n",
    "    for dato in datos:\n",
    "        cantidad=int(dato[\"cantidad\"])\n",
    "        producto=dato[\"producto\"].strip()\n",
    "        precio=float(dato[\"precio\"])\n",
    "\n",
    "        if producto in variable:\n",
    "            variable[producto][\"total\"] += cantidad* precio\n",
    "            variable[producto][\"cantidad\"]+= cantidad\n",
    "\n",
    "        else:\n",
    "            variable[producto]={\n",
    "                \"total\": precio*cantidad,\n",
    "                \"cantidad\":cantidad,\n",
    "                \"promedio\":None\n",
    "            }\n",
    "        \n",
    "    for promedio in variable:\n",
    "            variable[promedio][\"promedio\"]=float(variable[producto][\"total\"])/int((variable[promedio][\"cantidad\"]))\n",
    "      \n",
    "    return variable\n",
    "\n",
    "def listar_precios(datos):\n",
    "    for producto,dato in datos.items():\n",
    "        promedio = float(dato[\"promedio\"])\n",
    "        print(f\"El promedio del producto {producto} es de {promedio:.2f} \")\n",
    "\n",
    "precios = precio_promedio(datos)\n",
    "listar_precios(precios)"
   ]
  },
  {
   "cell_type": "markdown",
   "metadata": {},
   "source": [
    "### Ejercicio 5: Ranking de productos\n",
    "\n",
    "Realizar un listado de los 3 productos mas vendidos ordenados la cantidad de unidades vendidas (ordenadas de mayor a menor)\n"
   ]
  },
  {
   "cell_type": "code",
   "execution_count": 5,
   "metadata": {},
   "outputs": [
    {
     "name": "stdout",
     "output_type": "stream",
     "text": [
      "El producto Torasso tiene 32 de unidades vendidas y es el TOP 1\n",
      "El producto Coca Cola tiene 57 de unidades vendidas y es el TOP 2\n",
      "El producto Sprite tiene 72 de unidades vendidas y es el TOP 3\n"
     ]
    }
   ],
   "source": [
    "def ranking_productos(datos, top=3):\n",
    "    lista_ranking=[]\n",
    "    ranking= unidades_vendidas(datos)\n",
    "    for dato in ranking:\n",
    "        cantidad= int(ranking[dato])\n",
    "        producto= dato\n",
    "        lista_ranking.append({\"producto\":producto,\"cantidad\":cantidad})\n",
    "\n",
    "    def obtener_cantidad(cantidad):\n",
    "        return cantidad[\"cantidad\"]\n",
    "\n",
    "    lista_ranking.sort(key=obtener_cantidad)\n",
    "  \n",
    "    return  lista_ranking[:top]\n",
    "\n",
    "def listar_ranking(ranking):\n",
    "    for i, producto in enumerate(ranking):\n",
    "        nombre_producto=producto[\"producto\"]\n",
    "        cantidad=producto[\"cantidad\"]\n",
    "        print(f\"El producto {nombre_producto} tiene {cantidad} de unidades vendidas y es el TOP {i+1}\" )\n",
    "\n",
    "ranking = ranking_productos(datos)\n",
    "listar_ranking(ranking)"
   ]
  },
  {
   "cell_type": "markdown",
   "metadata": {},
   "source": [
    "### Ejercicio 6: Listar las ventas por mes\n",
    "\n",
    "Realizar un listado del total de unidades vendidas por productos separada por mes."
   ]
  },
  {
   "cell_type": "code",
   "execution_count": 22,
   "metadata": {},
   "outputs": [
    {
     "name": "stdout",
     "output_type": "stream",
     "text": [
      "El mes 08\n",
      "Registra Mirinda de 27 unidades vendidas\n",
      "Registra Torasso de 8 unidades vendidas\n",
      "Registra Pepsi Cola de 10 unidades vendidas\n",
      "El mes 09\n",
      "Registra Mirinda de 58 unidades vendidas\n",
      "Registra Sprite de 72 unidades vendidas\n",
      "Registra Coca Cola de 57 unidades vendidas\n",
      "Registra Pepsi Cola de 79 unidades vendidas\n",
      "Registra Torasso de 24 unidades vendidas\n"
     ]
    }
   ],
   "source": [
    "def ventas_por_mes(datos):\n",
    "    ventas_mes={}\n",
    "    for dato in datos:\n",
    "        fecha = dato[\"fecha\"].strip()\n",
    "        mes=fecha[5:7]\n",
    "        cantidad = int(dato[\"cantidad\"])\n",
    "        producto = dato[\"producto\"]\n",
    "\n",
    "        if mes not in ventas_mes:\n",
    "            ventas_mes[mes] = {}\n",
    "\n",
    "        if producto not in ventas_mes[mes]:\n",
    "            ventas_mes[mes][producto] = cantidad\n",
    "        else:\n",
    "            ventas_mes[mes][producto] += cantidad\n",
    "        \n",
    "    return ventas_mes\n",
    "\n",
    "def listar_ventas_mensuales(ventas):\n",
    "    for fecha,ventas_mes in ventas.items():\n",
    "        print(f\"El mes {fecha}\")\n",
    "        for producto,cantidad in ventas_mes.items():\n",
    "            print(f\"Registra {producto} de {cantidad} unidades vendidas\")\n",
    "\n",
    "ventas = ventas_por_mes(datos)\n",
    "listar_ventas_mensuales(ventas)"
   ]
  },
  {
   "cell_type": "markdown",
   "metadata": {},
   "source": [
    "### Ejercicio 7: Informe general\n",
    "\n",
    "Mostrar un listado de productos ordenados alfabeticamente que contengan el precio promedio, la cantidad de unidades vendidas y el importe total vendido para cada producto"
   ]
  },
  {
   "cell_type": "code",
   "execution_count": 38,
   "metadata": {},
   "outputs": [
    {
     "name": "stdout",
     "output_type": "stream",
     "text": [
      "El producto Mirinda tiene un importe total vendido de $131080.0 con 85 de ventas y un precio promedio de $344.94\n",
      "El producto Torasso tiene un importe total vendido de $29320.0 con 32 de ventas y un precio promedio de $916.25\n",
      "El producto Pepsi Cola tiene un importe total vendido de $110510.0 con 89 de ventas y un precio promedio de $329.44\n",
      "El producto Sprite tiene un importe total vendido de $61040.0 con 72 de ventas y un precio promedio de $407.22\n",
      "El producto Coca Cola tiene un importe total vendido de $60780.0 con 57 de ventas y un precio promedio de $514.39\n"
     ]
    }
   ],
   "source": [
    "def resumen_ventas(datos):\n",
    "    promedio = precio_promedio(datos)\n",
    "    return promedio\n",
    "\n",
    "def informe_ventas(datos):\n",
    "    for producto,informacion in datos.items():\n",
    "        cantidad= informacion[\"cantidad\"]\n",
    "        total = informacion[\"total\"]\n",
    "        promedio = informacion[\"promedio\"]\n",
    "        print(f\"El producto {producto} tiene un importe total vendido de ${total} con {cantidad} de ventas y un precio promedio de ${promedio:.2f}\")\n",
    "        \n",
    "\n",
    "\n",
    "\n",
    "\n",
    "resumen = resumen_ventas(datos)\n",
    "informe_ventas(resumen)\n"
   ]
  }
 ],
 "metadata": {
  "kernelspec": {
   "display_name": "Python 3",
   "language": "python",
   "name": "python3"
  },
  "language_info": {
   "codemirror_mode": {
    "name": "ipython",
    "version": 3
   },
   "file_extension": ".py",
   "mimetype": "text/x-python",
   "name": "python",
   "nbconvert_exporter": "python",
   "pygments_lexer": "ipython3",
   "version": "3.12.5"
  }
 },
 "nbformat": 4,
 "nbformat_minor": 2
}
